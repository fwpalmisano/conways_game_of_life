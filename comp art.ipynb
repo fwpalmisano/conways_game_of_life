{
 "cells": [
  {
   "cell_type": "code",
   "execution_count": 171,
   "metadata": {},
   "outputs": [],
   "source": [
    "import numpy as np \n",
    "import matplotlib.pyplot as plt\n",
    "import cv2 \n",
    "from PIL import Image\n",
    "import random\n",
    "import curses"
   ]
  },
  {
   "cell_type": "code",
   "execution_count": 237,
   "metadata": {},
   "outputs": [],
   "source": [
    "class CGOL:\n",
    "    \n",
    "    def __init__(self,height,width, num_cells):\n",
    "        self.height = height\n",
    "        self.width = width\n",
    "        self.life_board = None\n",
    "        self.num_cells = num_cells\n",
    "        self.create_life_board()\n",
    "        self.set_first_gen(self.num_cells)        \n",
    "\n",
    "    def create_life_board(self):\n",
    "\n",
    "        # create game of life board\n",
    "        self.life_board = np.zeros([self.height, self.width], dtype=int)\n",
    "\n",
    "\n",
    "    def set_first_gen(self, num_cells):\n",
    "        self.num_cells = num_cells\n",
    "        \n",
    "        for cell in range(self.num_cells):\n",
    "            col = random.randrange(self.width)\n",
    "            row = random.randrange(self.height)\n",
    "\n",
    "            self.life_board[row][col]=1\n",
    "\n",
    "    def evaluate_single_step(self):\n",
    "\n",
    "        new_board = self.life_board.copy()\n",
    "\n",
    "        for r, c in np.ndindex(self.life_board.shape):\n",
    "            cell = self.life_board[r,c]\n",
    "            check = self.life_board[max(r-1, 0):min(r+2, self.height), max(c-1, 0):min(c+2, self.width)] \n",
    "            alive_neighbors = np.sum(check)\n",
    "\n",
    "            if cell == 1:\n",
    "                alive_neighbors -= 1          \n",
    "\n",
    "            if cell == 1 and alive_neighbors <= 1:\n",
    "                new_board[r,c] = 0\n",
    "\n",
    "            elif cell == 1 and (alive_neighbors == 2 or alive_neighbors == 3):\n",
    "                new_board[r,c] = 1\n",
    "\n",
    "            elif cell == 1 and alive_neighbors > 3:\n",
    "                new_board[r,c] = 0\n",
    "\n",
    "            elif cell == 0 and alive_neighbors == 3:\n",
    "                new_board[r,c] = 1\n",
    "\n",
    "        self.life_board = new_board"
   ]
  },
  {
   "cell_type": "code",
   "execution_count": 249,
   "metadata": {
    "scrolled": true
   },
   "outputs": [
    {
     "name": "stderr",
     "output_type": "stream",
     "text": [
      "MovieWriter imagemagick unavailable. Trying to use pillow instead.\n"
     ]
    },
    {
     "data": {
      "image/png": "[encoded data removed]",
      "text/plain": [
       "<Figure size 432x288 with 1 Axes>"
      ]
     },
     "metadata": {
      "needs_background": "light"
     },
     "output_type": "display_data"
    }
   ],
   "source": [
    "def update(i):\n",
    "    label = 'timestep {0}'.format(i)\n",
    "    \n",
    "    CGOL_instance.evaluate_single_step()\n",
    "    \n",
    "    cell_plot.set_data(CGOL_instance.life_board)"
   ]
  },
  {
   "cell_type": "code",
   "execution_count": null,
   "metadata": {},
   "outputs": [
    {
     "name": "stderr",
     "output_type": "stream",
     "text": [
      "MovieWriter imagemagick unavailable. Trying to use pillow instead.\n"
     ]
    }
   ],
   "source": [
    "CGOL_instance = CGOL(1000,1000,500000)\n",
    "\n",
    "fig, ax = plt.subplots()\n",
    "cell_plot = ax.imshow(CGOL_instance.life_board)\n",
    "anim = FuncAnimation(fig, update, frames=np.arange(0, 25), interval=200)\n",
    "anim.save('line.gif', dpi=80, writer='imagemagick')"
   ]
  }
 ],
 "metadata": {
  "kernelspec": {
   "display_name": "Python 3",
   "language": "python",
   "name": "python3"
  },
  "language_info": {
   "codemirror_mode": {
    "name": "ipython",
    "version": 3
   },
   "file_extension": ".py",
   "mimetype": "text/x-python",
   "name": "python",
   "nbconvert_exporter": "python",
   "pygments_lexer": "ipython3",
   "version": "3.7.1"
  }
 },
 "nbformat": 4,
 "nbformat_minor": 2
}
