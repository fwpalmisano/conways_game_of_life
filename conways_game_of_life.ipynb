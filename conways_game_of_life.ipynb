{
 "cells": [
  {
   "cell_type": "code",
   "execution_count": 171,
   "metadata": {},
   "outputs": [],
   "source": [
    "import numpy as np \n",
    "import matplotlib.pyplot as plt\n",
    "import cv2 \n",
    "from PIL import Image\n",
    "import random\n",
    "import curses"
   ]
  },
  {
   "cell_type": "code",
   "execution_count": 316,
   "metadata": {},
   "outputs": [],
   "source": [
    "class CGOL:\n",
    "    \n",
    "    def __init__(self,height,width,alive_prop):\n",
    "        self.height = height\n",
    "        self.width = width\n",
    "        self.life_board = None\n",
    "        self.alive_prop = alive_prop\n",
    "        self.create_life_board()    \n",
    "\n",
    "    def create_life_board(self):\n",
    "        # create game of life board\n",
    "        self.life_board = np.random.choice([0, 1], size=(self.height,self.width), p=[(1-self.alive_prop), self.alive_prop])\n",
    "        self.life_board.reshape((self.height,self.width))\n",
    "        #print(self.life_board)\n",
    "        \n",
    "    def evaluate_single_step(self):\n",
    "\n",
    "        new_board = self.life_board.copy()\n",
    "\n",
    "        for r, c in np.ndindex(self.life_board.shape):\n",
    "            cell = self.life_board[r,c]\n",
    "            check = self.life_board[max(r-1, 0):min(r+2, self.height), max(c-1, 0):min(c+2, self.width)] \n",
    "            alive_neighbors = np.sum(check)\n",
    "\n",
    "            if cell == 1:\n",
    "                alive_neighbors -= 1          \n",
    "\n",
    "            if cell == 1 and alive_neighbors <= 1:\n",
    "                new_board[r,c] = 0\n",
    "\n",
    "            elif cell == 1 and (alive_neighbors == 2 or alive_neighbors == 3):\n",
    "                new_board[r,c] = 1\n",
    "\n",
    "            elif cell == 1 and alive_neighbors > 3:\n",
    "                new_board[r,c] = 0\n",
    "\n",
    "            elif cell == 0 and alive_neighbors == 3:\n",
    "                new_board[r,c] = 1\n",
    "\n",
    "        self.life_board = new_board\n",
    "        #print()\n",
    "        #print(self.life_board)"
   ]
  },
  {
   "cell_type": "code",
   "execution_count": 323,
   "metadata": {
    "scrolled": false
   },
   "outputs": [],
   "source": [
    "def update(i):\n",
    "    label = 'timestep {0}'.format(i)\n",
    "    \n",
    "    CGOL_instance.evaluate_single_step()\n",
    "    \n",
    "    cell_plot.set_data(CGOL_instance.life_board)"
   ]
  },
  {
   "cell_type": "code",
   "execution_count": 324,
   "metadata": {},
   "outputs": [
    {
     "name": "stderr",
     "output_type": "stream",
     "text": [
      "MovieWriter imagemagick unavailable. Trying to use pillow instead.\n"
     ]
    },
    {
     "data": {
      "image/png": "[encoded data removed]",
      "text/plain": [
       "<Figure size 432x288 with 1 Axes>"
      ]
     },
     "metadata": {
      "needs_background": "light"
     },
     "output_type": "display_data"
    }
   ],
   "source": [
    "CGOL_instance = CGOL(50,50,.5)\n",
    "\n",
    "fig, ax = plt.subplots()\n",
    "cell_plot = ax.imshow(CGOL_instance.life_board)\n",
    "anim = FuncAnimation(fig, update, frames=np.arange(0, 25), interval=200)\n",
    "anim.save('line.gif', dpi=80, writer='imagemagick')"
   ]
  },
  {
   "cell_type": "code",
   "execution_count": null,
   "metadata": {},
   "outputs": [],
   "source": []
  }
 ],
 "metadata": {
  "kernelspec": {
   "display_name": "Python 3",
   "language": "python",
   "name": "python3"
  },
  "language_info": {
   "codemirror_mode": {
    "name": "ipython",
    "version": 3
   },
   "file_extension": ".py",
   "mimetype": "text/x-python",
   "name": "python",
   "nbconvert_exporter": "python",
   "pygments_lexer": "ipython3",
   "version": "3.7.1"
  }
 },
 "nbformat": 4,
 "nbformat_minor": 2
}
